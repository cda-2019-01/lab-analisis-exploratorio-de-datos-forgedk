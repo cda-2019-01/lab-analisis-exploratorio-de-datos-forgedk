{
 "cells": [
  {
   "cell_type": "markdown",
   "metadata": {},
   "source": [
    "Evolución de los Precios de la Electricidad\n",
    "==="
   ]
  },
  {
   "cell_type": "markdown",
   "metadata": {},
   "source": [
    "# Instrucciones"
   ]
  },
  {
   "cell_type": "markdown",
   "metadata": {},
   "source": [
    "En el archivo `precios.zip`  se encuentran los archivos `Precio_Bolsa_Nacional_($kwh)_ano.xls` en formato de Microsoft Excel, los cuales contienen los precios históricos horarios de la electricidad para el mercado eléctrico Colombiano entre los años 1995 y 2017 en COL-PESOS/kWh. A partir de la información suministrada realice las siguientes actividades. "
   ]
  },
  {
   "cell_type": "markdown",
   "metadata": {},
   "source": [
    "**1.--** Lea los archivos y cree una tabla única concatenando la información para cada uno de los años. Debe transformar la tabla de tal forma que quede con las columnas `Fecha`, `Hora` y `Precio` (únicamente tres columnas)."
   ]
  },
  {
   "cell_type": "code",
   "execution_count": 113,
   "metadata": {},
   "outputs": [],
   "source": [
    "import matplotlib.pyplot as plt\n",
    "import matplotlib as mpl\n",
    "import pandas as pd\n",
    "import numpy as np\n",
    "import datetime as dt\n",
    "import glob\n",
    "\n",
    "%matplotlib inline"
   ]
  },
  {
   "cell_type": "code",
   "execution_count": 95,
   "metadata": {},
   "outputs": [],
   "source": [
    "def LeerPrecios(filename):\n",
    "    for indice in range(10):\n",
    "        DataFrame = pd.read_excel(filename,skiprows = indice ,usecols = list(range(25)))\n",
    "        if DataFrame.iloc[0,0] == 'Fecha':\n",
    "            DataFrame = pd.read_excel(filename,skiprows = indice+1, usecols = list(range(25)))\n",
    "            break\n",
    "    return DataFrame"
   ]
  },
  {
   "cell_type": "code",
   "execution_count": 96,
   "metadata": {},
   "outputs": [
    {
     "data": {
      "text/html": [
       "<div>\n",
       "<style scoped>\n",
       "    .dataframe tbody tr th:only-of-type {\n",
       "        vertical-align: middle;\n",
       "    }\n",
       "\n",
       "    .dataframe tbody tr th {\n",
       "        vertical-align: top;\n",
       "    }\n",
       "\n",
       "    .dataframe thead th {\n",
       "        text-align: right;\n",
       "    }\n",
       "</style>\n",
       "<table border=\"1\" class=\"dataframe\">\n",
       "  <thead>\n",
       "    <tr style=\"text-align: right;\">\n",
       "      <th></th>\n",
       "      <th>Fecha</th>\n",
       "      <th>Hora</th>\n",
       "      <th>Precio</th>\n",
       "    </tr>\n",
       "  </thead>\n",
       "  <tbody>\n",
       "    <tr>\n",
       "      <th>0</th>\n",
       "      <td>1995-07-20</td>\n",
       "      <td>0</td>\n",
       "      <td>NaN</td>\n",
       "    </tr>\n",
       "    <tr>\n",
       "      <th>1</th>\n",
       "      <td>1995-07-21</td>\n",
       "      <td>0</td>\n",
       "      <td>1.073000</td>\n",
       "    </tr>\n",
       "    <tr>\n",
       "      <th>2</th>\n",
       "      <td>1995-07-22</td>\n",
       "      <td>0</td>\n",
       "      <td>1.073000</td>\n",
       "    </tr>\n",
       "    <tr>\n",
       "      <th>3</th>\n",
       "      <td>1995-07-23</td>\n",
       "      <td>0</td>\n",
       "      <td>1.073000</td>\n",
       "    </tr>\n",
       "    <tr>\n",
       "      <th>4</th>\n",
       "      <td>1995-07-24</td>\n",
       "      <td>0</td>\n",
       "      <td>1.000000</td>\n",
       "    </tr>\n",
       "    <tr>\n",
       "      <th>5</th>\n",
       "      <td>1995-07-25</td>\n",
       "      <td>0</td>\n",
       "      <td>0.990000</td>\n",
       "    </tr>\n",
       "    <tr>\n",
       "      <th>6</th>\n",
       "      <td>1995-07-26</td>\n",
       "      <td>0</td>\n",
       "      <td>0.500000</td>\n",
       "    </tr>\n",
       "    <tr>\n",
       "      <th>7</th>\n",
       "      <td>1995-07-27</td>\n",
       "      <td>0</td>\n",
       "      <td>0.500000</td>\n",
       "    </tr>\n",
       "    <tr>\n",
       "      <th>8</th>\n",
       "      <td>1995-07-28</td>\n",
       "      <td>0</td>\n",
       "      <td>0.000000</td>\n",
       "    </tr>\n",
       "    <tr>\n",
       "      <th>9</th>\n",
       "      <td>1995-07-29</td>\n",
       "      <td>0</td>\n",
       "      <td>1.000000</td>\n",
       "    </tr>\n",
       "    <tr>\n",
       "      <th>10</th>\n",
       "      <td>1995-07-30</td>\n",
       "      <td>0</td>\n",
       "      <td>1.072000</td>\n",
       "    </tr>\n",
       "    <tr>\n",
       "      <th>11</th>\n",
       "      <td>1995-07-31</td>\n",
       "      <td>0</td>\n",
       "      <td>0.000000</td>\n",
       "    </tr>\n",
       "    <tr>\n",
       "      <th>12</th>\n",
       "      <td>1995-08-01</td>\n",
       "      <td>0</td>\n",
       "      <td>0.000000</td>\n",
       "    </tr>\n",
       "    <tr>\n",
       "      <th>13</th>\n",
       "      <td>1995-08-02</td>\n",
       "      <td>0</td>\n",
       "      <td>1.073000</td>\n",
       "    </tr>\n",
       "    <tr>\n",
       "      <th>14</th>\n",
       "      <td>1995-08-03</td>\n",
       "      <td>0</td>\n",
       "      <td>1.073000</td>\n",
       "    </tr>\n",
       "    <tr>\n",
       "      <th>15</th>\n",
       "      <td>1995-08-04</td>\n",
       "      <td>0</td>\n",
       "      <td>1.073000</td>\n",
       "    </tr>\n",
       "    <tr>\n",
       "      <th>16</th>\n",
       "      <td>1995-08-05</td>\n",
       "      <td>0</td>\n",
       "      <td>2.000000</td>\n",
       "    </tr>\n",
       "    <tr>\n",
       "      <th>17</th>\n",
       "      <td>1995-08-06</td>\n",
       "      <td>0</td>\n",
       "      <td>3.000000</td>\n",
       "    </tr>\n",
       "    <tr>\n",
       "      <th>18</th>\n",
       "      <td>1995-08-07</td>\n",
       "      <td>0</td>\n",
       "      <td>3.000000</td>\n",
       "    </tr>\n",
       "    <tr>\n",
       "      <th>19</th>\n",
       "      <td>1995-08-08</td>\n",
       "      <td>0</td>\n",
       "      <td>3.000000</td>\n",
       "    </tr>\n",
       "    <tr>\n",
       "      <th>20</th>\n",
       "      <td>1995-08-09</td>\n",
       "      <td>0</td>\n",
       "      <td>10.000000</td>\n",
       "    </tr>\n",
       "    <tr>\n",
       "      <th>21</th>\n",
       "      <td>1995-08-10</td>\n",
       "      <td>0</td>\n",
       "      <td>18.000000</td>\n",
       "    </tr>\n",
       "    <tr>\n",
       "      <th>22</th>\n",
       "      <td>1995-08-11</td>\n",
       "      <td>0</td>\n",
       "      <td>12.000000</td>\n",
       "    </tr>\n",
       "    <tr>\n",
       "      <th>23</th>\n",
       "      <td>1995-08-12</td>\n",
       "      <td>0</td>\n",
       "      <td>30.000000</td>\n",
       "    </tr>\n",
       "    <tr>\n",
       "      <th>24</th>\n",
       "      <td>1995-08-13</td>\n",
       "      <td>0</td>\n",
       "      <td>35.000000</td>\n",
       "    </tr>\n",
       "    <tr>\n",
       "      <th>25</th>\n",
       "      <td>1995-08-14</td>\n",
       "      <td>0</td>\n",
       "      <td>17.000000</td>\n",
       "    </tr>\n",
       "    <tr>\n",
       "      <th>26</th>\n",
       "      <td>1995-08-15</td>\n",
       "      <td>0</td>\n",
       "      <td>1.074000</td>\n",
       "    </tr>\n",
       "    <tr>\n",
       "      <th>27</th>\n",
       "      <td>1995-08-16</td>\n",
       "      <td>0</td>\n",
       "      <td>1.074000</td>\n",
       "    </tr>\n",
       "    <tr>\n",
       "      <th>28</th>\n",
       "      <td>1995-08-17</td>\n",
       "      <td>0</td>\n",
       "      <td>1.000000</td>\n",
       "    </tr>\n",
       "    <tr>\n",
       "      <th>29</th>\n",
       "      <td>1995-08-18</td>\n",
       "      <td>0</td>\n",
       "      <td>1.075000</td>\n",
       "    </tr>\n",
       "    <tr>\n",
       "      <th>...</th>\n",
       "      <td>...</td>\n",
       "      <td>...</td>\n",
       "      <td>...</td>\n",
       "    </tr>\n",
       "    <tr>\n",
       "      <th>201786</th>\n",
       "      <td>2018-04-06</td>\n",
       "      <td>23</td>\n",
       "      <td>101.061224</td>\n",
       "    </tr>\n",
       "    <tr>\n",
       "      <th>201787</th>\n",
       "      <td>2018-04-07</td>\n",
       "      <td>23</td>\n",
       "      <td>115.247319</td>\n",
       "    </tr>\n",
       "    <tr>\n",
       "      <th>201788</th>\n",
       "      <td>2018-04-08</td>\n",
       "      <td>23</td>\n",
       "      <td>104.855346</td>\n",
       "    </tr>\n",
       "    <tr>\n",
       "      <th>201789</th>\n",
       "      <td>2018-04-09</td>\n",
       "      <td>23</td>\n",
       "      <td>96.150254</td>\n",
       "    </tr>\n",
       "    <tr>\n",
       "      <th>201790</th>\n",
       "      <td>2018-04-10</td>\n",
       "      <td>23</td>\n",
       "      <td>96.544901</td>\n",
       "    </tr>\n",
       "    <tr>\n",
       "      <th>201791</th>\n",
       "      <td>2018-04-11</td>\n",
       "      <td>23</td>\n",
       "      <td>95.951640</td>\n",
       "    </tr>\n",
       "    <tr>\n",
       "      <th>201792</th>\n",
       "      <td>2018-04-12</td>\n",
       "      <td>23</td>\n",
       "      <td>104.050235</td>\n",
       "    </tr>\n",
       "    <tr>\n",
       "      <th>201793</th>\n",
       "      <td>2018-04-13</td>\n",
       "      <td>23</td>\n",
       "      <td>115.019470</td>\n",
       "    </tr>\n",
       "    <tr>\n",
       "      <th>201794</th>\n",
       "      <td>2018-04-14</td>\n",
       "      <td>23</td>\n",
       "      <td>112.536146</td>\n",
       "    </tr>\n",
       "    <tr>\n",
       "      <th>201795</th>\n",
       "      <td>2018-04-15</td>\n",
       "      <td>23</td>\n",
       "      <td>102.413184</td>\n",
       "    </tr>\n",
       "    <tr>\n",
       "      <th>201796</th>\n",
       "      <td>2018-04-16</td>\n",
       "      <td>23</td>\n",
       "      <td>84.128662</td>\n",
       "    </tr>\n",
       "    <tr>\n",
       "      <th>201797</th>\n",
       "      <td>2018-04-17</td>\n",
       "      <td>23</td>\n",
       "      <td>82.310629</td>\n",
       "    </tr>\n",
       "    <tr>\n",
       "      <th>201798</th>\n",
       "      <td>2018-04-18</td>\n",
       "      <td>23</td>\n",
       "      <td>115.397910</td>\n",
       "    </tr>\n",
       "    <tr>\n",
       "      <th>201799</th>\n",
       "      <td>2018-04-19</td>\n",
       "      <td>23</td>\n",
       "      <td>130.148787</td>\n",
       "    </tr>\n",
       "    <tr>\n",
       "      <th>201800</th>\n",
       "      <td>2018-04-20</td>\n",
       "      <td>23</td>\n",
       "      <td>73.651514</td>\n",
       "    </tr>\n",
       "    <tr>\n",
       "      <th>201801</th>\n",
       "      <td>2018-04-21</td>\n",
       "      <td>23</td>\n",
       "      <td>73.040902</td>\n",
       "    </tr>\n",
       "    <tr>\n",
       "      <th>201802</th>\n",
       "      <td>2018-04-22</td>\n",
       "      <td>23</td>\n",
       "      <td>73.182921</td>\n",
       "    </tr>\n",
       "    <tr>\n",
       "      <th>201803</th>\n",
       "      <td>2018-04-23</td>\n",
       "      <td>23</td>\n",
       "      <td>117.952904</td>\n",
       "    </tr>\n",
       "    <tr>\n",
       "      <th>201804</th>\n",
       "      <td>2018-04-24</td>\n",
       "      <td>23</td>\n",
       "      <td>124.376789</td>\n",
       "    </tr>\n",
       "    <tr>\n",
       "      <th>201805</th>\n",
       "      <td>2018-04-25</td>\n",
       "      <td>23</td>\n",
       "      <td>140.515851</td>\n",
       "    </tr>\n",
       "    <tr>\n",
       "      <th>201806</th>\n",
       "      <td>2018-04-26</td>\n",
       "      <td>23</td>\n",
       "      <td>72.752131</td>\n",
       "    </tr>\n",
       "    <tr>\n",
       "      <th>201807</th>\n",
       "      <td>2018-04-27</td>\n",
       "      <td>23</td>\n",
       "      <td>71.669496</td>\n",
       "    </tr>\n",
       "    <tr>\n",
       "      <th>201808</th>\n",
       "      <td>2018-04-28</td>\n",
       "      <td>23</td>\n",
       "      <td>70.008969</td>\n",
       "    </tr>\n",
       "    <tr>\n",
       "      <th>201809</th>\n",
       "      <td>2018-04-29</td>\n",
       "      <td>23</td>\n",
       "      <td>70.012686</td>\n",
       "    </tr>\n",
       "    <tr>\n",
       "      <th>201810</th>\n",
       "      <td>2018-04-30</td>\n",
       "      <td>23</td>\n",
       "      <td>67.645951</td>\n",
       "    </tr>\n",
       "    <tr>\n",
       "      <th>201811</th>\n",
       "      <td>2018-05-01</td>\n",
       "      <td>23</td>\n",
       "      <td>64.229226</td>\n",
       "    </tr>\n",
       "    <tr>\n",
       "      <th>201812</th>\n",
       "      <td>2018-05-02</td>\n",
       "      <td>23</td>\n",
       "      <td>67.832816</td>\n",
       "    </tr>\n",
       "    <tr>\n",
       "      <th>201813</th>\n",
       "      <td>2018-05-03</td>\n",
       "      <td>23</td>\n",
       "      <td>63.710848</td>\n",
       "    </tr>\n",
       "    <tr>\n",
       "      <th>201814</th>\n",
       "      <td>2018-05-04</td>\n",
       "      <td>23</td>\n",
       "      <td>64.043453</td>\n",
       "    </tr>\n",
       "    <tr>\n",
       "      <th>201815</th>\n",
       "      <td>2018-05-05</td>\n",
       "      <td>23</td>\n",
       "      <td>75.242918</td>\n",
       "    </tr>\n",
       "  </tbody>\n",
       "</table>\n",
       "<p>201816 rows × 3 columns</p>\n",
       "</div>"
      ],
      "text/plain": [
       "             Fecha Hora      Precio\n",
       "0       1995-07-20    0         NaN\n",
       "1       1995-07-21    0    1.073000\n",
       "2       1995-07-22    0    1.073000\n",
       "3       1995-07-23    0    1.073000\n",
       "4       1995-07-24    0    1.000000\n",
       "5       1995-07-25    0    0.990000\n",
       "6       1995-07-26    0    0.500000\n",
       "7       1995-07-27    0    0.500000\n",
       "8       1995-07-28    0    0.000000\n",
       "9       1995-07-29    0    1.000000\n",
       "10      1995-07-30    0    1.072000\n",
       "11      1995-07-31    0    0.000000\n",
       "12      1995-08-01    0    0.000000\n",
       "13      1995-08-02    0    1.073000\n",
       "14      1995-08-03    0    1.073000\n",
       "15      1995-08-04    0    1.073000\n",
       "16      1995-08-05    0    2.000000\n",
       "17      1995-08-06    0    3.000000\n",
       "18      1995-08-07    0    3.000000\n",
       "19      1995-08-08    0    3.000000\n",
       "20      1995-08-09    0   10.000000\n",
       "21      1995-08-10    0   18.000000\n",
       "22      1995-08-11    0   12.000000\n",
       "23      1995-08-12    0   30.000000\n",
       "24      1995-08-13    0   35.000000\n",
       "25      1995-08-14    0   17.000000\n",
       "26      1995-08-15    0    1.074000\n",
       "27      1995-08-16    0    1.074000\n",
       "28      1995-08-17    0    1.000000\n",
       "29      1995-08-18    0    1.075000\n",
       "...            ...  ...         ...\n",
       "201786  2018-04-06   23  101.061224\n",
       "201787  2018-04-07   23  115.247319\n",
       "201788  2018-04-08   23  104.855346\n",
       "201789  2018-04-09   23   96.150254\n",
       "201790  2018-04-10   23   96.544901\n",
       "201791  2018-04-11   23   95.951640\n",
       "201792  2018-04-12   23  104.050235\n",
       "201793  2018-04-13   23  115.019470\n",
       "201794  2018-04-14   23  112.536146\n",
       "201795  2018-04-15   23  102.413184\n",
       "201796  2018-04-16   23   84.128662\n",
       "201797  2018-04-17   23   82.310629\n",
       "201798  2018-04-18   23  115.397910\n",
       "201799  2018-04-19   23  130.148787\n",
       "201800  2018-04-20   23   73.651514\n",
       "201801  2018-04-21   23   73.040902\n",
       "201802  2018-04-22   23   73.182921\n",
       "201803  2018-04-23   23  117.952904\n",
       "201804  2018-04-24   23  124.376789\n",
       "201805  2018-04-25   23  140.515851\n",
       "201806  2018-04-26   23   72.752131\n",
       "201807  2018-04-27   23   71.669496\n",
       "201808  2018-04-28   23   70.008969\n",
       "201809  2018-04-29   23   70.012686\n",
       "201810  2018-04-30   23   67.645951\n",
       "201811  2018-05-01   23   64.229226\n",
       "201812  2018-05-02   23   67.832816\n",
       "201813  2018-05-03   23   63.710848\n",
       "201814  2018-05-04   23   64.043453\n",
       "201815  2018-05-05   23   75.242918\n",
       "\n",
       "[201816 rows x 3 columns]"
      ]
     },
     "execution_count": 96,
     "metadata": {},
     "output_type": "execute_result"
    }
   ],
   "source": [
    "Archivos = !ls Files/*.xls*\n",
    "DataFrames = []\n",
    "for filename in Archivos:\n",
    "    DataFrames.append(LeerPrecios(filename))\n",
    "DataFrames = pd.concat(DataFrames)\n",
    "DataFrames = pd.melt(DataFrames,id_vars = 'Fecha')\n",
    "DataFrames.columns = ['Fecha','Hora','Precio']"
   ]
  },
  {
   "cell_type": "markdown",
   "metadata": {},
   "source": [
    "**2.--** Compute e imprima el número de registros con datos faltantes."
   ]
  },
  {
   "cell_type": "code",
   "execution_count": 97,
   "metadata": {},
   "outputs": [
    {
     "data": {
      "text/plain": [
       "454"
      ]
     },
     "execution_count": 97,
     "metadata": {},
     "output_type": "execute_result"
    }
   ],
   "source": [
    "DataFrames.isnull().sum().sum()"
   ]
  },
  {
   "cell_type": "markdown",
   "metadata": {},
   "source": [
    "**3.--** Compute e imprima el número de registros duplicados."
   ]
  },
  {
   "cell_type": "code",
   "execution_count": 98,
   "metadata": {},
   "outputs": [
    {
     "data": {
      "text/plain": [
       "1951"
      ]
     },
     "execution_count": 98,
     "metadata": {},
     "output_type": "execute_result"
    }
   ],
   "source": [
    "DataFrameSinRepetir = DataFrames.copy()\n",
    "DataFrameSinRepetir = len(DataFrameSinRepetir.drop_duplicates().index)\n",
    "TotalRepetidos =  len(DataFrames.index) - DataFrameSinRepetir\n",
    "TotalRepetidos"
   ]
  },
  {
   "cell_type": "markdown",
   "metadata": {},
   "source": [
    "**4.--** Elimine los registros con datos duplicados o datos faltantes, e imprima la cantidad de registros que quedan (registros completos)."
   ]
  },
  {
   "cell_type": "code",
   "execution_count": 99,
   "metadata": {},
   "outputs": [
    {
     "data": {
      "text/plain": [
       "199819"
      ]
     },
     "execution_count": 99,
     "metadata": {},
     "output_type": "execute_result"
    }
   ],
   "source": [
    "DataFrameSinRepetir = DataFrames.copy()\n",
    "DataFrameSinRepetir = (DataFrameSinRepetir.drop_duplicates())\n",
    "DataFrameSinRepetir = DataFrameSinRepetir.dropna()\n",
    "len(DataFrameSinRepetir.index)"
   ]
  },
  {
   "cell_type": "markdown",
   "metadata": {},
   "source": [
    "**5.--** Compute y grafique el precio primedio diario."
   ]
  },
  {
   "cell_type": "code",
   "execution_count": 160,
   "metadata": {},
   "outputs": [
    {
     "data": {
      "text/plain": [
       "Text(0.5, 0, 'Dia')"
      ]
     },
     "execution_count": 160,
     "metadata": {},
     "output_type": "execute_result"
    },
    {
     "data": {
      "image/png": "[encoded data removed]",
      "text/plain": [
       "<Figure size 432x288 with 1 Axes>"
      ]
     },
     "metadata": {
      "needs_background": "light"
     },
     "output_type": "display_data"
    }
   ],
   "source": [
    "DatosPorDia = DataFrameSinRepetir.copy()\n",
    "DatosPorDia['Fecha'] = pd.to_datetime(DatosPorDia['Fecha'])\n",
    "DatosPorDia['Dia'] =  DatosPorDia[['Fecha']].apply(lambda x: dt.datetime.strftime(x['Fecha'], '%A'), axis=1)\n",
    "DatosPorDia = DatosPorDia.groupby('Dia').agg({'Precio': np.mean}) \n",
    "sorter = ['Monday', 'Tuesday', 'Wednesday', 'Thursday', 'Friday', 'Saturday', 'Sunday']\n",
    "sorterIndex = dict(zip(sorter,range(len(sorter))))\n",
    "DatosPorDia.reset_index(inplace=True)\n",
    "DatosPorDia['DayRank'] = DatosPorDia['Dia'].map(sorterIndex)\n",
    "DatosPorDiaOrdenadosPorDia = (DatosPorDia.sort_values('DayRank'))\n",
    "plt.bar(range(7), DatosPorDiaOrdenadosPorDia['Precio'])\n",
    "plt.xticks(range(7), list(DatosPorDiaOrdenadosPorDia['Dia']), rotation='vertical')\n",
    "plt.title('Precio promedio de Energia Diario')\n",
    "plt.xlabel('Dia')"
   ]
  },
  {
   "cell_type": "markdown",
   "metadata": {},
   "source": [
    "**6.--** Compute y grafique el precio máximo por mes."
   ]
  },
  {
   "cell_type": "code",
   "execution_count": 177,
   "metadata": {},
   "outputs": [
    {
     "data": {
      "text/plain": [
       "Text(0.5, 0, 'Mes')"
      ]
     },
     "execution_count": 177,
     "metadata": {},
     "output_type": "execute_result"
    },
    {
     "data": {
      "image/png": "[encoded data removed]",
      "text/plain": [
       "<Figure size 432x288 with 1 Axes>"
      ]
     },
     "metadata": {
      "needs_background": "light"
     },
     "output_type": "display_data"
    }
   ],
   "source": [
    "DatosPorMesMaximo = DataFrameSinRepetir.copy()\n",
    "DatosPorMesMaximo['Fecha'] = pd.to_datetime(DatosPorMesMaximo['Fecha'])\n",
    "DatosPorMesMaximo['Mes'] =  DatosPorMesMaximo[['Fecha']].apply(lambda x: dt.datetime.strftime(x['Fecha'], '%m'), axis=1)\n",
    "DatosPorMesMaximo = DatosPorMesMaximo.groupby('Mes').agg({'Precio': np.max}) \n",
    "plt.bar(range(12), DatosPorMesMaximo['Precio'])\n",
    "plt.xticks(range(12), (list(DatosPorMesMaximo.index)), rotation='vertical')\n",
    "plt.title('Precio maximo de Energia Mensual')\n",
    "plt.xlabel('Mes')"
   ]
  },
  {
   "cell_type": "markdown",
   "metadata": {},
   "source": [
    "**7.--** Compute y grafique el precio mínimo mensual."
   ]
  },
  {
   "cell_type": "code",
   "execution_count": 178,
   "metadata": {},
   "outputs": [
    {
     "data": {
      "text/plain": [
       "Text(0.5, 0, 'Mes')"
      ]
     },
     "execution_count": 178,
     "metadata": {},
     "output_type": "execute_result"
    },
    {
     "data": {
      "image/png": "[encoded data removed]",
      "text/plain": [
       "<Figure size 432x288 with 1 Axes>"
      ]
     },
     "metadata": {
      "needs_background": "light"
     },
     "output_type": "display_data"
    }
   ],
   "source": [
    "DatosPorMesMinimo = DataFrameSinRepetir.copy()\n",
    "DatosPorMesMinimo['Fecha'] = pd.to_datetime(DatosPorMesMinimo['Fecha'])\n",
    "DatosPorMesMinimo['Mes'] =  DatosPorMesMinimo[['Fecha']].apply(lambda x: dt.datetime.strftime(x['Fecha'], '%m'), axis=1)\n",
    "DatosPorMesMinimo = DatosPorMesMinimo.groupby('Mes').agg({'Precio': np.min}) \n",
    "plt.bar(range(12), DatosPorMesMinimo['Precio'])\n",
    "plt.xticks(range(12), (list(DatosPorMesMinimo.index)), rotation='vertical')\n",
    "plt.title('Precio minimo de Energia Mensual')\n",
    "plt.xlabel('Mes')"
   ]
  },
  {
   "cell_type": "markdown",
   "metadata": {},
   "source": [
    "**8.--** Haga un gráfico para comparar el precio máximo del mes (para cada mes) y el precio promedio mensual."
   ]
  },
  {
   "cell_type": "code",
   "execution_count": 181,
   "metadata": {},
   "outputs": [
    {
     "data": {
      "text/plain": [
       "Text(0.5, 0, 'Mes')"
      ]
     },
     "execution_count": 181,
     "metadata": {},
     "output_type": "execute_result"
    },
    {
     "data": {
      "image/png": "[encoded data removed]",
      "text/plain": [
       "<Figure size 1152x432 with 2 Axes>"
      ]
     },
     "metadata": {
      "needs_background": "light"
     },
     "output_type": "display_data"
    }
   ],
   "source": [
    "DatosPorMesPromedio = DataFrameSinRepetir.copy()\n",
    "DatosPorMesPromedio['Fecha'] = pd.to_datetime(DatosPorMesPromedio['Fecha'])\n",
    "DatosPorMesPromedio['Mes'] =  DatosPorMesPromedio[['Fecha']].apply(lambda x: dt.datetime.strftime(x['Fecha'], '%m'), axis=1)\n",
    "DatosPorMesPromedio = DatosPorMesPromedio.groupby('Mes').agg({'Precio': np.mean}) \n",
    "\n",
    "plt.figure(figsize=(16, 6))\n",
    "plt.subplot(1, 2 , 1)\n",
    "plt.bar(range(12), DatosPorMes['Precio'])\n",
    "plt.xticks(range(12), (list(DatosPorMesMaximo.index)), rotation='vertical')\n",
    "plt.title('Precio maximo de Energia Mensual')\n",
    "plt.xlabel('Mes')\n",
    "plt.subplot(1, 2 , 2)\n",
    "plt.bar(range(12), DatosPorMesPromedio['Precio'])\n",
    "plt.xticks(range(12), (list(DatosPorMesPromedio.index)), rotation='vertical')\n",
    "plt.title('Precio Promedio de Energia Mensual')\n",
    "plt.xlabel('Mes')\n"
   ]
  },
  {
   "cell_type": "markdown",
   "metadata": {},
   "source": [
    "**9.--** Haga un histograma que muestre a que horas se produce el máximo precio diario para los días laborales."
   ]
  },
  {
   "cell_type": "code",
   "execution_count": 211,
   "metadata": {},
   "outputs": [],
   "source": [
    "DatosPorDia = DataFrameSinRepetir.copy()\n",
    "DatosPorDia['Fecha'] = pd.to_datetime(DatosPorDia['Fecha'])\n",
    "DatosPorDia['Dia'] =  DatosPorDia[['Fecha']].apply(lambda x: dt.datetime.strftime(x['Fecha'], '%A'), axis=1)\n",
    "ListaDeDiasHabiles = ['Monday', 'Tuesday', 'Wednesday', 'Thursday', 'Friday']\n",
    "DataFramePorDiasLaborarles = DatosPorDia[(DatosPorDia['Dia'] == 'Monday') | (DatosPorDia['Dia'] == 'Tuesday')| (DatosPorDia['Dia'] == 'Wednesday')| (DatosPorDia['Dia'] == 'Thursday')| (DatosPorDia['Dia'] == 'Friday')]\n",
    "DataFrameAgrupadoPorFecha = DataFramePorDiasLaborarles.groupby('Fecha').agg({'Precio': np.max}) \n",
    "DataFrameAgrupadoPorFecha.reset_index(inplace=True)\n",
    "DataFramesMerge = pd.merge(DataFramePorDiasLaborarles, DataFrameAgrupadoPorFecha, on=['Fecha','Precio'], how='inner')\n",
    "plt.hist(DataFramesMerge['Dia'])"
   ]
  },
  {
   "cell_type": "markdown",
   "metadata": {},
   "source": [
    "**10.--** Haga un histograma que muestre a que horas se produce el máximo precio diario para los días sabado."
   ]
  },
  {
   "cell_type": "markdown",
   "metadata": {},
   "source": [
    "**11.--** Haga un histograma que muestre a que horas se produce el máximo precio diario para los días domingo."
   ]
  },
  {
   "cell_type": "markdown",
   "metadata": {},
   "source": [
    "**12.--** Imprima una tabla con la fecha y el valor más bajo por año del precio de bolsa."
   ]
  },
  {
   "cell_type": "markdown",
   "metadata": {},
   "source": [
    "**13.--** Haga una gráfica en que se muestre el precio promedio diario y el precio promedio mensual."
   ]
  },
  {
   "cell_type": "markdown",
   "metadata": {},
   "source": [
    "---"
   ]
  }
 ],
 "metadata": {
  "anaconda-cloud": {},
  "kernel_info": {
   "name": "python3"
  },
  "kernelspec": {
   "display_name": "Python 3",
   "language": "python",
   "name": "python3"
  },
  "language_info": {
   "codemirror_mode": {
    "name": "ipython",
    "version": 3
   },
   "file_extension": ".py",
   "mimetype": "text/x-python",
   "name": "python",
   "nbconvert_exporter": "python",
   "pygments_lexer": "ipython3",
   "version": "3.6.7"
  },
  "nteract": {
   "version": "0.7.1"
  }
 },
 "nbformat": 4,
 "nbformat_minor": 2
}
